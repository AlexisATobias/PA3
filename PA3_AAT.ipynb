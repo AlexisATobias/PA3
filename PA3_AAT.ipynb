{
 "cells": [
  {
   "cell_type": "markdown",
   "id": "5780d283",
   "metadata": {},
   "source": [
    "# PA3 Lists and Tuples\n",
    "### Created by: Alexis Tobias\n",
    "#### Python 3\n",
    "#### Fall 2023"
   ]
  },
  {
   "cell_type": "markdown",
   "id": "10e9cb52",
   "metadata": {},
   "source": [
    "## Tasks 1: List Operations"
   ]
  },
  {
   "cell_type": "code",
   "execution_count": 91,
   "id": "13c78db1",
   "metadata": {},
   "outputs": [
    {
     "data": {
      "text/plain": [
       "list"
      ]
     },
     "execution_count": 91,
     "metadata": {},
     "output_type": "execute_result"
    }
   ],
   "source": [
    "NumbersList= [10,20,30,40,50]\n",
    "type(NumbersList)"
   ]
  },
  {
   "cell_type": "code",
   "execution_count": 92,
   "id": "2b1022ee",
   "metadata": {},
   "outputs": [
    {
     "name": "stdout",
     "output_type": "stream",
     "text": [
      "[10, 20, 30, 40, 50]\n"
     ]
    }
   ],
   "source": [
    "print(NumbersList)"
   ]
  },
  {
   "cell_type": "code",
   "execution_count": 93,
   "id": "9100e966",
   "metadata": {
    "scrolled": false
   },
   "outputs": [],
   "source": [
    "NumbersList.append(60)"
   ]
  },
  {
   "cell_type": "code",
   "execution_count": 94,
   "id": "3becf36c",
   "metadata": {
    "scrolled": true
   },
   "outputs": [],
   "source": [
    "NumbersList.insert(0,5)"
   ]
  },
  {
   "cell_type": "code",
   "execution_count": 95,
   "id": "60016af3",
   "metadata": {},
   "outputs": [
    {
     "name": "stdout",
     "output_type": "stream",
     "text": [
      "[5, 10, 20, 30, 40, 50, 60]\n"
     ]
    }
   ],
   "source": [
    "print(NumbersList)"
   ]
  },
  {
   "cell_type": "code",
   "execution_count": 96,
   "id": "e29c6eb7",
   "metadata": {},
   "outputs": [],
   "source": [
    "del NumbersList[2]"
   ]
  },
  {
   "cell_type": "code",
   "execution_count": 97,
   "id": "1a3b5b0e",
   "metadata": {},
   "outputs": [
    {
     "name": "stdout",
     "output_type": "stream",
     "text": [
      "[5, 10, 30, 40, 50, 60]\n"
     ]
    }
   ],
   "source": [
    "print(NumbersList)"
   ]
  },
  {
   "cell_type": "markdown",
   "id": "88a1c67d",
   "metadata": {},
   "source": [
    "## Task 2: Tuple Basics"
   ]
  },
  {
   "cell_type": "code",
   "execution_count": 98,
   "id": "32490b06",
   "metadata": {},
   "outputs": [
    {
     "data": {
      "text/plain": [
       "tuple"
      ]
     },
     "execution_count": 98,
     "metadata": {},
     "output_type": "execute_result"
    }
   ],
   "source": [
    "Days=('Sunday','Monday','Tuesday','Wednesday','Thursday','Friday','Saturday')\n",
    "type(Days)"
   ]
  },
  {
   "cell_type": "code",
   "execution_count": 99,
   "id": "a5e8670d",
   "metadata": {},
   "outputs": [
    {
     "data": {
      "text/plain": [
       "'Tuesday'"
      ]
     },
     "execution_count": 99,
     "metadata": {},
     "output_type": "execute_result"
    }
   ],
   "source": [
    "Days[2]"
   ]
  },
  {
   "cell_type": "code",
   "execution_count": 100,
   "id": "0b365e52",
   "metadata": {},
   "outputs": [
    {
     "ename": "TypeError",
     "evalue": "'tuple' object does not support item assignment",
     "output_type": "error",
     "traceback": [
      "\u001b[1;31m---------------------------------------------------------------------------\u001b[0m",
      "\u001b[1;31mTypeError\u001b[0m                                 Traceback (most recent call last)",
      "Cell \u001b[1;32mIn[100], line 2\u001b[0m\n\u001b[0;32m      1\u001b[0m \u001b[38;5;66;03m# Attempting to make a change to a Tuple.\u001b[39;00m\n\u001b[1;32m----> 2\u001b[0m Days[\u001b[38;5;241m1\u001b[39m]\u001b[38;5;241m=\u001b[39m\u001b[38;5;124m'\u001b[39m\u001b[38;5;124mFunday\u001b[39m\u001b[38;5;124m'\u001b[39m\n",
      "\u001b[1;31mTypeError\u001b[0m: 'tuple' object does not support item assignment"
     ]
    }
   ],
   "source": [
    "# Attempting to make a change to a Tuple.\n",
    "Days[1]='Funday'"
   ]
  },
  {
   "cell_type": "code",
   "execution_count": 101,
   "id": "c5b0be89",
   "metadata": {},
   "outputs": [
    {
     "name": "stdout",
     "output_type": "stream",
     "text": [
      "Attempt failed because a Tuple can not be changed or modified. A tuple is an immutable list; thus, tuples do not support the item assignment.\n"
     ]
    }
   ],
   "source": [
    "print(\"Attempt failed because a Tuple can not be changed or modified. A tuple is an immutable list; thus, tuples do not support the item assignment.\")"
   ]
  },
  {
   "cell_type": "markdown",
   "id": "3cb5b9f7",
   "metadata": {},
   "source": [
    "## Task 3: Reversing Sublist"
   ]
  },
  {
   "cell_type": "code",
   "execution_count": 102,
   "id": "2e7a7634",
   "metadata": {},
   "outputs": [
    {
     "name": "stdout",
     "output_type": "stream",
     "text": [
      "['a', 'b', 'c', 'd', 'e', 'f', 'g', 'h', 'i', 'j', 'k', 'l', 'm', 'n', 'o', 'p', 'q', 'r', 's', 't', 'u', 'v', 'w', 'x', 'y', 'z']\n"
     ]
    }
   ],
   "source": [
    "letters=['a','b','c','d','e','f','g','h','i','j','k','l','m','n','o','p','q','r','s','t','u','v','w','x','y','z']\n",
    "print(letters)"
   ]
  },
  {
   "cell_type": "code",
   "execution_count": 103,
   "id": "5131e78a",
   "metadata": {},
   "outputs": [],
   "source": [
    "# List Slicing\n",
    "del letters[15]\n",
    "del letters[14]\n",
    "letters.pop(13)\n",
    "letters.pop(12)\n",
    "letters.remove('l')\n",
    "letters.remove('k')"
   ]
  },
  {
   "cell_type": "code",
   "execution_count": 104,
   "id": "1b6dab13",
   "metadata": {},
   "outputs": [
    {
     "name": "stdout",
     "output_type": "stream",
     "text": [
      "['z', 'y', 'x', 'w', 'v', 'u', 't', 's', 'r', 'q', 'j', 'i', 'h', 'g', 'f', 'e', 'd', 'c', 'b', 'a']\n"
     ]
    }
   ],
   "source": [
    "letters.reverse()\n",
    "print(letters)"
   ]
  },
  {
   "cell_type": "markdown",
   "id": "ba9a6328",
   "metadata": {},
   "source": [
    "## Task 4: Tuple Packing and Unpacking"
   ]
  },
  {
   "cell_type": "code",
   "execution_count": 105,
   "id": "c7b01ddd",
   "metadata": {},
   "outputs": [],
   "source": [
    "student=('Alexis','Tobias',29,'Programming')\n",
    "FirstName, LastName, Age, FavoriteSubject=student"
   ]
  },
  {
   "cell_type": "code",
   "execution_count": 106,
   "id": "f08f0f3b",
   "metadata": {},
   "outputs": [
    {
     "data": {
      "text/plain": [
       "'Alexis'"
      ]
     },
     "execution_count": 106,
     "metadata": {},
     "output_type": "execute_result"
    }
   ],
   "source": [
    "FirstName"
   ]
  },
  {
   "cell_type": "code",
   "execution_count": 107,
   "id": "6dd10eea",
   "metadata": {},
   "outputs": [
    {
     "data": {
      "text/plain": [
       "'Tobias'"
      ]
     },
     "execution_count": 107,
     "metadata": {},
     "output_type": "execute_result"
    }
   ],
   "source": [
    "LastName"
   ]
  },
  {
   "cell_type": "code",
   "execution_count": 108,
   "id": "d4328a69",
   "metadata": {},
   "outputs": [
    {
     "data": {
      "text/plain": [
       "29"
      ]
     },
     "execution_count": 108,
     "metadata": {},
     "output_type": "execute_result"
    }
   ],
   "source": [
    "Age"
   ]
  },
  {
   "cell_type": "code",
   "execution_count": 109,
   "id": "f8ce4a4f",
   "metadata": {},
   "outputs": [
    {
     "data": {
      "text/plain": [
       "'Programming'"
      ]
     },
     "execution_count": 109,
     "metadata": {},
     "output_type": "execute_result"
    }
   ],
   "source": [
    "FavoriteSubject"
   ]
  },
  {
   "cell_type": "markdown",
   "id": "7f583089",
   "metadata": {},
   "source": [
    "## Task 5: Shopping List"
   ]
  },
  {
   "cell_type": "code",
   "execution_count": 110,
   "id": "4a0b9252",
   "metadata": {},
   "outputs": [
    {
     "data": {
      "text/plain": [
       "5"
      ]
     },
     "execution_count": 110,
     "metadata": {},
     "output_type": "execute_result"
    }
   ],
   "source": [
    "Shopping_List= ['Bananas','cake','juice','chocolate','crackers']\n",
    "len(Shopping_List)"
   ]
  },
  {
   "cell_type": "code",
   "execution_count": 111,
   "id": "fcf882df",
   "metadata": {},
   "outputs": [
    {
     "name": "stdout",
     "output_type": "stream",
     "text": [
      "['Bananas', 'cake', 'chocolate', 'coffee', 'crackers']\n"
     ]
    }
   ],
   "source": [
    "Shopping_List[2]='coffee'\n",
    "Shopping_List.sort()\n",
    "print(Shopping_List)"
   ]
  },
  {
   "cell_type": "code",
   "execution_count": null,
   "id": "2a125cec",
   "metadata": {},
   "outputs": [],
   "source": []
  }
 ],
 "metadata": {
  "kernelspec": {
   "display_name": "Python 3 (ipykernel)",
   "language": "python",
   "name": "python3"
  },
  "language_info": {
   "codemirror_mode": {
    "name": "ipython",
    "version": 3
   },
   "file_extension": ".py",
   "mimetype": "text/x-python",
   "name": "python",
   "nbconvert_exporter": "python",
   "pygments_lexer": "ipython3",
   "version": "3.11.5"
  }
 },
 "nbformat": 4,
 "nbformat_minor": 5
}
